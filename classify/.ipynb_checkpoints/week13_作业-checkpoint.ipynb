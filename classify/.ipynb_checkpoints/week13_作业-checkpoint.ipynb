{
 "cells": [
  {
   "cell_type": "code",
   "execution_count": 1,
   "metadata": {},
   "outputs": [],
   "source": [
    "#数据\n",
    "my_data=[['slashdot','USA','yes',18,'None'],\n",
    "\n",
    "['google','France','yes',23,'Premium'],\n",
    "\n",
    "['digg','USA','yes',24,'Basic'],\n",
    "\n",
    "['kiwitobes','France','yes',23,'Basic'],\n",
    "\n",
    "['google','UK','no',21,'Premium'],\n",
    "\n",
    "['(direct)','New Zealand','no',12,'None'],\n",
    "\n",
    "['(direct)','UK','no',21,'Basic'],\n",
    "\n",
    "['google','USA','no',24,'Premium'],\n",
    "\n",
    "['slashdot','France','yes',19,'None'],\n",
    "\n",
    "['digg','USA','no',18,'None'],\n",
    "\n",
    "['google','UK','no',18,'None'],\n",
    "\n",
    "['kiwitobes','UK','no',19,'None'],\n",
    "\n",
    "['digg','New Zealand','yes',12,'Basic'],\n",
    "\n",
    "['slashdot','UK','no',21,'None'],\n",
    "\n",
    "['google','UK','yes',18,'Basic'],\n",
    "\n",
    "['kiwitobes','France','yes',19,'Basic']]"
   ]
  },
  {
   "cell_type": "code",
   "execution_count": 2,
   "metadata": {},
   "outputs": [
    {
     "name": "stderr",
     "output_type": "stream",
     "text": [
      "D:\\Anaconda3\\lib\\site-packages\\sklearn\\cross_validation.py:41: DeprecationWarning: This module was deprecated in version 0.18 in favor of the model_selection module into which all the refactored classes and functions are moved. Also note that the interface of the new CV iterators are different from that of this module. This module will be removed in 0.20.\n",
      "  \"This module will be removed in 0.20.\", DeprecationWarning)\n"
     ]
    }
   ],
   "source": [
    "import numpy as np\n",
    "from sklearn.neighbors import KNeighborsClassifier\n",
    "from sklearn.metrics import precision_recall_curve\n",
    "from sklearn.metrics import classification_report\n",
    "from sklearn.naive_bayes import BernoulliNB\n",
    "from sklearn.feature_extraction.text import TfidfVectorizer\n",
    "from sklearn.cross_validation import train_test_split\n",
    "import matplotlib.pyplot as plt\n",
    "import pandas as pd\n",
    "from sklearn.tree import DecisionTreeClassifier as DTC"
   ]
  },
  {
   "cell_type": "code",
   "execution_count": 3,
   "metadata": {},
   "outputs": [],
   "source": [
    "data = pd.DataFrame(my_data)"
   ]
  },
  {
   "cell_type": "code",
   "execution_count": 4,
   "metadata": {},
   "outputs": [],
   "source": [
    "data_targets = data[data.columns[4]]"
   ]
  },
  {
   "cell_type": "code",
   "execution_count": 5,
   "metadata": {},
   "outputs": [
    {
     "data": {
      "text/plain": [
       "0        None\n",
       "1     Premium\n",
       "2       Basic\n",
       "3       Basic\n",
       "4     Premium\n",
       "5        None\n",
       "6       Basic\n",
       "7     Premium\n",
       "8        None\n",
       "9        None\n",
       "10       None\n",
       "11       None\n",
       "12      Basic\n",
       "13       None\n",
       "14      Basic\n",
       "15      Basic\n",
       "Name: 4, dtype: object"
      ]
     },
     "execution_count": 5,
     "metadata": {},
     "output_type": "execute_result"
    }
   ],
   "source": [
    "data_targets"
   ]
  },
  {
   "cell_type": "code",
   "execution_count": 6,
   "metadata": {},
   "outputs": [],
   "source": [
    "data_x = data.drop(data.columns[4],axis=1)"
   ]
  },
  {
   "cell_type": "code",
   "execution_count": 7,
   "metadata": {},
   "outputs": [],
   "source": [
    "data_x.columns = ['site','loc','faq','pagenum']"
   ]
  },
  {
   "cell_type": "markdown",
   "metadata": {},
   "source": [
    "#数据预处理\n",
    "已经得到x和targets数据\n",
    "1、数值化\n",
    "    one-hot\n",
    "2、归一化"
   ]
  },
  {
   "cell_type": "markdown",
   "metadata": {},
   "source": [
    "ROC曲线\n",
    "特征之间协方差找线性相关系数"
   ]
  },
  {
   "cell_type": "code",
   "execution_count": 9,
   "metadata": {},
   "outputs": [],
   "source": [
    "#[slashdot google digg kiwitobes (direct)] ->[1 2 3 4 5]\n",
    "data_x.replace('slashdot',0, inplace=True)\n",
    "data_x.replace('google',1, inplace=True)\n",
    "data_x.replace('digg',2, inplace=True)\n",
    "data_x.replace('kiwitobes',3, inplace=True)\n",
    "data_x.replace('(direct)',4, inplace=True)"
   ]
  },
  {
   "cell_type": "code",
   "execution_count": 10,
   "metadata": {},
   "outputs": [],
   "source": [
    "#[USA France UK New Zealand ] ->[1 2 3 4 5]\n",
    "data_x.replace('USA',0, inplace=True)\n",
    "data_x.replace('France',1, inplace=True)\n",
    "data_x.replace('UK',2, inplace=True)\n",
    "data_x.replace('New Zealand',3, inplace=True)"
   ]
  },
  {
   "cell_type": "code",
   "execution_count": 11,
   "metadata": {},
   "outputs": [],
   "source": [
    "#[yes no ] ->[0 1]\n",
    "data_x.replace('yes',1, inplace=True)\n",
    "data_x.replace('no',0, inplace=True)"
   ]
  },
  {
   "cell_type": "code",
   "execution_count": 12,
   "metadata": {},
   "outputs": [],
   "source": [
    "#0        None\n",
    "# 1     Premium\n",
    "# 2       Basic\n",
    "data_targets.replace('None',0, inplace=True)\n",
    "data_targets.replace('Premium',1, inplace=True)\n",
    "data_targets.replace('Basic',2, inplace=True)"
   ]
  },
  {
   "cell_type": "code",
   "execution_count": 13,
   "metadata": {},
   "outputs": [],
   "source": [
    "from sklearn import preprocessing\n",
    "#导入数据处理模块，并生成one_hot()编码函数\n",
    "enc = preprocessing.OneHotEncoder()\n",
    "enc.fit(data_x.iloc[:,0:3])\n",
    "x = enc.transform(data_x.iloc[:,0:3]).toarray()"
   ]
  },
  {
   "cell_type": "code",
   "execution_count": 14,
   "metadata": {},
   "outputs": [],
   "source": [
    "x = pd.DataFrame(x)"
   ]
  },
  {
   "cell_type": "code",
   "execution_count": 15,
   "metadata": {},
   "outputs": [
    {
     "name": "stderr",
     "output_type": "stream",
     "text": [
      "D:\\Anaconda3\\lib\\site-packages\\ipykernel_launcher.py:4: FutureWarning: reshape is deprecated and will raise in a subsequent release. Please use .values.reshape(...) instead\n",
      "  after removing the cwd from sys.path.\n",
      "D:\\Anaconda3\\lib\\site-packages\\sklearn\\utils\\validation.py:475: DataConversionWarning: Data with input dtype int64 was converted to float64 by MinMaxScaler.\n",
      "  warnings.warn(msg, DataConversionWarning)\n"
     ]
    }
   ],
   "source": [
    "#归一化\n",
    "from sklearn import preprocessing\n",
    "min_max_scaler = preprocessing.MinMaxScaler()\n",
    "add = min_max_scaler.fit_transform(data_x['pagenum'].reshape(-1,1))\n",
    "x[11] = add"
   ]
  },
  {
   "cell_type": "code",
   "execution_count": 16,
   "metadata": {},
   "outputs": [],
   "source": [
    "from sklearn.cross_validation import train_test_split\n",
    "#拆分训练数据与测试数据 \n",
    "x_train, x_test, y_train, y_test = train_test_split(x,data_targets, test_size = 0.2)"
   ]
  },
  {
   "cell_type": "code",
   "execution_count": 17,
   "metadata": {},
   "outputs": [
    {
     "data": {
      "text/plain": [
       "BernoulliNB(alpha=1.0, binarize=0.0, class_prior=None, fit_prior=True)"
      ]
     },
     "execution_count": 17,
     "metadata": {},
     "output_type": "execute_result"
    }
   ],
   "source": [
    "####贝叶斯分类器####\n",
    "#训练贝叶斯分类器\n",
    "from sklearn.naive_bayes import BernoulliNB\n",
    "clf = BernoulliNB() \n",
    "clf.fit(x_train,y_train)"
   ]
  },
  {
   "cell_type": "code",
   "execution_count": 18,
   "metadata": {},
   "outputs": [
    {
     "name": "stdout",
     "output_type": "stream",
     "text": [
      "     0    1    2    3    4    5    6    7    8    9    10        11\n",
      "11  0.0  0.0  0.0  1.0  0.0  0.0  0.0  1.0  0.0  1.0  0.0  0.583333\n",
      "14  0.0  1.0  0.0  0.0  0.0  0.0  0.0  1.0  0.0  0.0  1.0  0.500000\n",
      "13  1.0  0.0  0.0  0.0  0.0  0.0  0.0  1.0  0.0  1.0  0.0  0.750000\n",
      "8   1.0  0.0  0.0  0.0  0.0  0.0  1.0  0.0  0.0  0.0  1.0  0.583333\n",
      "[0 1 0 2]\n",
      "11    0\n",
      "14    2\n",
      "13    0\n",
      "8     0\n",
      "Name: 4, dtype: int64\n",
      "0.5\n",
      "             precision    recall  f1-score   support\n",
      "\n",
      "       None       1.00      0.67      0.80         3\n",
      "    Premium       0.00      0.00      0.00         0\n",
      "      Basic       0.00      0.00      0.00         1\n",
      "\n",
      "avg / total       0.75      0.50      0.60         4\n",
      "\n"
     ]
    },
    {
     "name": "stderr",
     "output_type": "stream",
     "text": [
      "D:\\Anaconda3\\lib\\site-packages\\sklearn\\metrics\\classification.py:1137: UndefinedMetricWarning: Recall and F-score are ill-defined and being set to 0.0 in labels with no true samples.\n",
      "  'recall', 'true', average, warn_for)\n"
     ]
    }
   ],
   "source": [
    "from sklearn.metrics import classification_report\n",
    "#测试结果\n",
    "answer = clf.predict(x_test)\n",
    "print(x_test)\n",
    "print(answer)\n",
    "print(y_test)\n",
    "print(np.mean( answer == y_test))\n",
    "print(classification_report(y_test, answer, target_names = ['None', 'Premium','Basic']))"
   ]
  }
 ],
 "metadata": {
  "kernelspec": {
   "display_name": "Python 3",
   "language": "python",
   "name": "python3"
  },
  "language_info": {
   "codemirror_mode": {
    "name": "ipython",
    "version": 3
   },
   "file_extension": ".py",
   "mimetype": "text/x-python",
   "name": "python",
   "nbconvert_exporter": "python",
   "pygments_lexer": "ipython3",
   "version": "3.6.4"
  }
 },
 "nbformat": 4,
 "nbformat_minor": 2
}
