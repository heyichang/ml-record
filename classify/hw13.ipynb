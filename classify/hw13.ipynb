{
 "cells": [
  {
   "cell_type": "code",
   "execution_count": 1,
   "metadata": {},
   "outputs": [
    {
     "name": "stderr",
     "output_type": "stream",
     "text": [
      "D:\\Anaconda3\\lib\\site-packages\\sklearn\\cross_validation.py:41: DeprecationWarning: This module was deprecated in version 0.18 in favor of the model_selection module into which all the refactored classes and functions are moved. Also note that the interface of the new CV iterators are different from that of this module. This module will be removed in 0.20.\n",
      "  \"This module will be removed in 0.20.\", DeprecationWarning)\n"
     ]
    }
   ],
   "source": [
    "import numpy as np\n",
    "from sklearn.neighbors import KNeighborsClassifier\n",
    "from sklearn.metrics import precision_recall_curve\n",
    "from sklearn.metrics import classification_report\n",
    "from sklearn.naive_bayes import BernoulliNB\n",
    "from sklearn.feature_extraction.text import TfidfVectorizer\n",
    "from sklearn.cross_validation import train_test_split\n",
    "import matplotlib.pyplot as plt\n",
    "import pandas as pd\n",
    "from sklearn.tree import DecisionTreeClassifier as DTC"
   ]
  },
  {
   "cell_type": "code",
   "execution_count": 2,
   "metadata": {},
   "outputs": [],
   "source": [
    "my_data=[['slashdot','USA','yes',18,'None'], \n",
    "\n",
    "['google','France','yes',23,'Premium'], \n",
    "\n",
    "['digg','USA','yes',24,'Basic'], \n",
    "\n",
    "['kiwitobes','France','yes',23,'Basic'], \n",
    "\n",
    "['google','UK','no',21,'Premium'], \n",
    "\n",
    "['(direct)','New Zealand','no',12,'None'], \n",
    "\n",
    "['(direct)','UK','no',21,'Basic'], \n",
    "\n",
    "['google','USA','no',24,'Premium'], \n",
    "\n",
    "['slashdot','France','yes',19,'None'], \n",
    "\n",
    "['digg','USA','no',18,'None'], \n",
    "\n",
    "['google','UK','no',18,'None'], \n",
    "\n",
    "['kiwitobes','UK','no',19,'None'], \n",
    "\n",
    "['digg','New Zealand','yes',12,'Basic'], \n",
    "\n",
    "['slashdot','UK','no',21,'None'], \n",
    "\n",
    "['google','UK','yes',18,'Basic'], \n",
    "\n",
    "['kiwitobes','France','yes',19,'Basic']]"
   ]
  },
  {
   "cell_type": "code",
   "execution_count": 3,
   "metadata": {},
   "outputs": [],
   "source": [
    "#数据预处理\n",
    "data = pd.DataFrame(my_data)\n",
    "data.columns = ['website','region','isFAQ','page','ser']\n",
    "data2=data.copy()\n",
    "for i in data.columns[data.columns!='page']:\n",
    "    n=len(data[i].unique())\n",
    "    data2[i]=pd.DataFrame(pd.get_dummies(data[i])*range(n)).apply(max,axis=1)\n",
    "\n",
    "x = data2.iloc[:,:4]\n",
    "y = data2.iloc[:,4]\n",
    "\n",
    "x=x.as_matrix().astype(int)\n",
    "y=y.as_matrix().astype(int)"
   ]
  },
  {
   "cell_type": "code",
   "execution_count": 4,
   "metadata": {},
   "outputs": [
    {
     "data": {
      "text/plain": [
       "array([[ 4,  3,  1, 18],\n",
       "       [ 2,  0,  1, 23],\n",
       "       [ 1,  3,  1, 24],\n",
       "       [ 3,  0,  1, 23],\n",
       "       [ 2,  2,  0, 21],\n",
       "       [ 0,  1,  0, 12],\n",
       "       [ 0,  2,  0, 21],\n",
       "       [ 2,  3,  0, 24],\n",
       "       [ 4,  0,  1, 19],\n",
       "       [ 1,  3,  0, 18],\n",
       "       [ 2,  2,  0, 18],\n",
       "       [ 3,  2,  0, 19],\n",
       "       [ 1,  1,  1, 12],\n",
       "       [ 4,  2,  0, 21],\n",
       "       [ 2,  2,  1, 18],\n",
       "       [ 3,  0,  1, 19]])"
      ]
     },
     "execution_count": 4,
     "metadata": {},
     "output_type": "execute_result"
    }
   ],
   "source": [
    "x"
   ]
  },
  {
   "cell_type": "code",
   "execution_count": 5,
   "metadata": {},
   "outputs": [
    {
     "data": {
      "text/plain": [
       "array([1, 2, 0, 0, 2, 1, 0, 2, 1, 1, 1, 1, 0, 1, 0, 0])"
      ]
     },
     "execution_count": 5,
     "metadata": {},
     "output_type": "execute_result"
    }
   ],
   "source": [
    "y"
   ]
  },
  {
   "cell_type": "code",
   "execution_count": 6,
   "metadata": {},
   "outputs": [
    {
     "name": "stdout",
     "output_type": "stream",
     "text": [
      "0.625\n",
      "             precision    recall  f1-score   support\n",
      "\n",
      "       None       1.00      0.17      0.29         6\n",
      "    Premium       0.64      1.00      0.78         7\n",
      "      Basic       0.50      0.67      0.57         3\n",
      "\n",
      "avg / total       0.75      0.62      0.55        16\n",
      "\n"
     ]
    }
   ],
   "source": [
    "####KNN分类器 #####\n",
    "#训练KNN分类器 \n",
    "knn = KNeighborsClassifier(algorithm='kd_tree')\n",
    "knn.fit(x, y)\n",
    "#测试结果\n",
    "answer = knn.predict(x)\n",
    "print(np.mean( answer == y))\n",
    "print(classification_report(y, answer, target_names = ['None', 'Premium','Basic']))"
   ]
  },
  {
   "cell_type": "code",
   "execution_count": 7,
   "metadata": {},
   "outputs": [
    {
     "name": "stdout",
     "output_type": "stream",
     "text": [
      "0.625\n",
      "             precision    recall  f1-score   support\n",
      "\n",
      "       None       0.62      0.83      0.71         6\n",
      "    Premium       0.62      0.71      0.67         7\n",
      "      Basic       0.00      0.00      0.00         3\n",
      "\n",
      "avg / total       0.51      0.62      0.56        16\n",
      "\n"
     ]
    },
    {
     "name": "stderr",
     "output_type": "stream",
     "text": [
      "D:\\Anaconda3\\lib\\site-packages\\sklearn\\metrics\\classification.py:1135: UndefinedMetricWarning: Precision and F-score are ill-defined and being set to 0.0 in labels with no predicted samples.\n",
      "  'precision', 'predicted', average, warn_for)\n"
     ]
    }
   ],
   "source": [
    "####贝叶斯分类器####\n",
    "#训练贝叶斯分类器\n",
    "Ber = BernoulliNB() \n",
    "Ber.fit(x,y)\n",
    "#测试结果\n",
    "answer = Ber.predict(x)\n",
    "print(np.mean( answer == y))\n",
    "print(classification_report(y, answer, target_names = ['None', 'Premium','Basic']))"
   ]
  },
  {
   "cell_type": "code",
   "execution_count": null,
   "metadata": {},
   "outputs": [],
   "source": []
  }
 ],
 "metadata": {
  "kernelspec": {
   "display_name": "Python 3",
   "language": "python",
   "name": "python3"
  },
  "language_info": {
   "codemirror_mode": {
    "name": "ipython",
    "version": 3
   },
   "file_extension": ".py",
   "mimetype": "text/x-python",
   "name": "python",
   "nbconvert_exporter": "python",
   "pygments_lexer": "ipython3",
   "version": "3.6.4"
  }
 },
 "nbformat": 4,
 "nbformat_minor": 2
}
