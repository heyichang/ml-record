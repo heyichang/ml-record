{
 "cells": [
  {
   "cell_type": "code",
   "execution_count": 1,
   "metadata": {
    "collapsed": true
   },
   "outputs": [],
   "source": [
    "import numpy as np\n",
    "import pandas as pd\n",
    "import sys\n",
    "from pandas import Series, DataFrame\n",
    "import matplotlib.pyplot as plt"
   ]
  },
  {
   "cell_type": "code",
   "execution_count": 3,
   "metadata": {
    "collapsed": true
   },
   "outputs": [],
   "source": [
    "filename = 'telco.xls'"
   ]
  },
  {
   "cell_type": "code",
   "execution_count": 4,
   "metadata": {
    "collapsed": true
   },
   "outputs": [],
   "source": [
    "data = pd.read_excel(filename)"
   ]
  },
  {
   "cell_type": "code",
   "execution_count": 5,
   "metadata": {},
   "outputs": [
    {
     "data": {
      "text/plain": [
       "<bound method NDFrame.head of      region  tenure  age  marital  address  income  ed  employ  retire  \\\n",
       "0         2      13   44        1        9      64   4       5       0   \n",
       "1         3      11   33        1        7     136   5       5       0   \n",
       "2         3      68   52        1       24     116   1      29       0   \n",
       "3         2      33   33        0       12      33   2       0       0   \n",
       "4         2      23   30        1        9      30   1       2       0   \n",
       "5         2      41   39        0       17      78   2      16       0   \n",
       "6         3      45   22        1        2      19   2       4       0   \n",
       "7         2      38   35        0        5      76   2      10       0   \n",
       "8         3      45   59        1        7     166   4      31       0   \n",
       "9         1      68   41        1       21      72   1      22       0   \n",
       "10        2       5   33        0       10     125   4       5       0   \n",
       "11        3       7   35        0       14      80   2      15       0   \n",
       "12        1      41   38        1        8      37   2       9       0   \n",
       "13        2      57   54        1       30     115   4      23       0   \n",
       "14        2       9   46        0        3      25   1       8       0   \n",
       "15        1      29   38        1       12      75   5       1       0   \n",
       "16        3      60   57        0       38     162   2      30       0   \n",
       "17        3      34   48        0        3      49   2       6       0   \n",
       "18        2       1   24        0        3      20   1       3       0   \n",
       "19        1      26   29        1        3      77   4       2       0   \n",
       "20        3       6   30        0        7      16   3       1       0   \n",
       "21        1      68   52        1       17     120   1      24       0   \n",
       "22        3      53   33        0       10     101   5       4       0   \n",
       "23        3      55   48        1       19      67   1      25       0   \n",
       "24        3      14   43        1       18      36   1       5       0   \n",
       "25        2       1   21        0        0      33   2       0       0   \n",
       "26        2      42   40        0        7      37   2       8       0   \n",
       "27        3      25   33        1       11      31   1       5       0   \n",
       "28        1       9   21        1        1      17   2       2       0   \n",
       "29        2      13   33        1        9      19   4       0       0   \n",
       "..      ...     ...  ...      ...      ...     ...  ..     ...     ...   \n",
       "970       3      48   45        0       15      41   1      10       0   \n",
       "971       2       9   53        1       20      50   2      13       0   \n",
       "972       1      61   52        0       21      82   1      18       0   \n",
       "973       3      72   53        0       34     108   1      23       0   \n",
       "974       3      57   60        0       20      14   2      27       1   \n",
       "975       2      57   51        0       10      46   1      13       0   \n",
       "976       1      37   60        1        0      46   1      20       0   \n",
       "977       3      45   51        0       13     146   4      16       0   \n",
       "978       3      45   39        1       15      36   1      11       0   \n",
       "979       2      55   44        0       24      83   1      23       0   \n",
       "980       2      24   27        0        2      17   3       3       0   \n",
       "981       3       1   20        0        1      18   3       0       0   \n",
       "982       2      34   23        1        3      24   1       7       0   \n",
       "983       3      14   37        1        5      48   3       1       0   \n",
       "984       3       6   32        0       10      47   1      10       0   \n",
       "985       3      24   30        0        0      25   4       5       0   \n",
       "986       2       3   26        1        6      59   4       0       0   \n",
       "987       1       4   30        0        1      45   4       6       0   \n",
       "988       1      72   40        1       19     163   4      15       0   \n",
       "989       1      44   56        0        4      63   2       6       0   \n",
       "990       1      50   43        0        6      27   3       4       0   \n",
       "991       2      61   50        1       16     190   2      22       0   \n",
       "992       1      34   52        1        2     106   2      19       0   \n",
       "993       3      26   54        1       30      26   3       1       0   \n",
       "994       1      15   46        1       17      63   5       1       0   \n",
       "995       3      10   39        0        0      27   3       0       0   \n",
       "996       1       7   34        0        2      22   5       5       0   \n",
       "997       3      67   59        0       40     944   5      33       0   \n",
       "998       3      70   49        0       18      87   2      22       0   \n",
       "999       3      50   36        1        7      39   3       3       0   \n",
       "\n",
       "     gender  ...    internet  callid  callwait  forward  confer  ebill  \\\n",
       "0         0  ...           0       0         0        1       0      0   \n",
       "1         0  ...           0       1         1        1       1      0   \n",
       "2         1  ...           0       1         1        0       1      0   \n",
       "3         1  ...           0       0         0        0       0      0   \n",
       "4         0  ...           0       1         0        1       1      0   \n",
       "5         1  ...           0       1         1        0       0      0   \n",
       "6         1  ...           1       0         1        0       0      1   \n",
       "7         0  ...           1       1         1        1       1      1   \n",
       "8         0  ...           0       1         1        1       1      0   \n",
       "9         0  ...           0       0         0        0       0      0   \n",
       "10        1  ...           1       0         0        0       0      1   \n",
       "11        1  ...           0       1         1        1       1      0   \n",
       "12        1  ...           0       0         0        0       0      0   \n",
       "13        1  ...           1       1         1        1       1      1   \n",
       "14        1  ...           0       0         0        0       0      0   \n",
       "15        0  ...           1       0         0        0       0      0   \n",
       "16        0  ...           0       1         1        1       1      0   \n",
       "17        1  ...           0       0         1        1       1      0   \n",
       "18        0  ...           0       0         0        0       0      0   \n",
       "19        0  ...           1       1         1        1       1      1   \n",
       "20        1  ...           1       0         1        0       0      0   \n",
       "21        0  ...           0       0         0        1       0      0   \n",
       "22        1  ...           1       0         1        1       1      1   \n",
       "23        0  ...           0       0         0        0       0      0   \n",
       "24        0  ...           0       1         1        1       1      0   \n",
       "25        1  ...           0       0         1        1       1      0   \n",
       "26        1  ...           1       1         1        0       1      1   \n",
       "27        0  ...           0       1         0        1       0      0   \n",
       "28        1  ...           0       1         0        0       0      0   \n",
       "29        1  ...           1       0         0        0       1      1   \n",
       "..      ...  ...         ...     ...       ...      ...     ...    ...   \n",
       "970       1  ...           0       0         0        0       0      0   \n",
       "971       1  ...           0       0         0        0       0      1   \n",
       "972       0  ...           0       1         0        1       1      0   \n",
       "973       0  ...           0       1         1        1       1      0   \n",
       "974       1  ...           0       0         1        1       1      0   \n",
       "975       0  ...           1       0         0        0       1      0   \n",
       "976       0  ...           0       1         1        1       1      0   \n",
       "977       0  ...           0       0         0        0       0      1   \n",
       "978       1  ...           1       0         0        0       0      0   \n",
       "979       1  ...           0       0         0        1       1      0   \n",
       "980       0  ...           0       0         1        0       0      0   \n",
       "981       0  ...           1       0         0        0       1      1   \n",
       "982       1  ...           0       0         1        1       1      0   \n",
       "983       1  ...           0       0         0        0       0      0   \n",
       "984       0  ...           0       1         1        1       1      0   \n",
       "985       0  ...           1       1         1        1       1      1   \n",
       "986       1  ...           0       1         0        1       1      0   \n",
       "987       0  ...           1       1         0        1       1      1   \n",
       "988       0  ...           0       0         0        0       1      1   \n",
       "989       1  ...           0       1         1        0       0      0   \n",
       "990       0  ...           0       1         1        1       1      0   \n",
       "991       1  ...           1       0         0        1       0      1   \n",
       "992       0  ...           1       1         0        1       1      0   \n",
       "993       1  ...           0       1         1        1       1      1   \n",
       "994       0  ...           1       1         0        1       1      1   \n",
       "995       1  ...           0       0         0        0       0      1   \n",
       "996       1  ...           0       0         0        0       0      0   \n",
       "997       1  ...           1       1         1        1       1      1   \n",
       "998       1  ...           0       1         1        1       1      0   \n",
       "999       1  ...           1       0         0        0       0      1   \n",
       "\n",
       "     loglong  lninc  custcat  churn  \n",
       "0       1.31   4.16        1      1  \n",
       "1       1.48   4.91        4      1  \n",
       "2       2.90   4.75        3      0  \n",
       "3       2.25   3.50        1      1  \n",
       "4       1.84   3.40        3      0  \n",
       "5       2.47   4.36        3      0  \n",
       "6       2.39   2.94        2      1  \n",
       "7       1.80   4.33        4      0  \n",
       "8       2.28   5.11        3      0  \n",
       "9       3.18   4.28        2      0  \n",
       "10      1.58   4.83        1      1  \n",
       "11      1.96   4.38        3      0  \n",
       "12      2.15   3.61        1      0  \n",
       "13      2.75   4.74        4      1  \n",
       "14      1.48   3.22        1      0  \n",
       "15      1.63   4.32        2      0  \n",
       "16      2.78   5.09        3      0  \n",
       "17      1.89   3.89        3      0  \n",
       "18      0.05   3.00        1      0  \n",
       "19      1.90   4.34        4      1  \n",
       "20      1.32   2.77        2      1  \n",
       "21      3.03   4.79        1      0  \n",
       "22      1.67   4.62        4      0  \n",
       "23      2.71   4.20        1      0  \n",
       "24      2.53   3.58        3      0  \n",
       "25      0.79   3.50        3      0  \n",
       "26      2.11   3.61        4      0  \n",
       "27      2.21   3.43        3      0  \n",
       "28      1.06   2.83        1      0  \n",
       "29      1.71   2.94        2      0  \n",
       "..       ...    ...      ...    ...  \n",
       "970     2.32   3.71        1      0  \n",
       "971     1.13   3.91        1      1  \n",
       "972     2.49   4.41        3      0  \n",
       "973     3.48   4.68        3      0  \n",
       "974     2.78   2.64        3      0  \n",
       "975     2.71   3.83        2      0  \n",
       "976     2.17   3.83        3      0  \n",
       "977     3.01   4.98        1      0  \n",
       "978     2.72   3.58        1      0  \n",
       "979     2.85   4.42        3      0  \n",
       "980     1.65   2.83        2      1  \n",
       "981     1.44   2.89        1      1  \n",
       "982     1.79   3.18        3      0  \n",
       "983     1.59   3.87        1      0  \n",
       "984     1.35   3.85        3      0  \n",
       "985     2.16   3.22        4      1  \n",
       "986     0.94   4.08        4      1  \n",
       "987     1.29   3.81        4      1  \n",
       "988     3.66   5.09        2      0  \n",
       "989     2.01   4.14        3      1  \n",
       "990     2.71   3.30        3      0  \n",
       "991     2.82   5.25        2      0  \n",
       "992     1.60   4.66        3      0  \n",
       "993     1.65   3.26        4      1  \n",
       "994     1.31   4.14        4      1  \n",
       "995     1.10   3.30        1      0  \n",
       "996     1.54   3.09        1      0  \n",
       "997     3.29   6.85        4      0  \n",
       "998     3.24   4.47        3      0  \n",
       "999     2.58   3.66        2      1  \n",
       "\n",
       "[1000 rows x 38 columns]>"
      ]
     },
     "execution_count": 5,
     "metadata": {},
     "output_type": "execute_result"
    }
   ],
   "source": [
    "data.head"
   ]
  },
  {
   "cell_type": "code",
   "execution_count": 12,
   "metadata": {},
   "outputs": [
    {
     "data": {
      "text/plain": [
       "38"
      ]
     },
     "execution_count": 12,
     "metadata": {},
     "output_type": "execute_result"
    }
   ],
   "source": [
    "data.shape[1]"
   ]
  },
  {
   "cell_type": "code",
   "execution_count": 6,
   "metadata": {},
   "outputs": [
    {
     "data": {
      "text/plain": [
       "38000"
      ]
     },
     "execution_count": 6,
     "metadata": {},
     "output_type": "execute_result"
    }
   ],
   "source": [
    "data.size"
   ]
  },
  {
   "cell_type": "code",
   "execution_count": 7,
   "metadata": {
    "collapsed": true
   },
   "outputs": [],
   "source": [
    "x = data.iloc[:,:37].as_matrix()\n",
    "y = data.iloc[:,37].as_matrix()"
   ]
  },
  {
   "cell_type": "code",
   "execution_count": 8,
   "metadata": {},
   "outputs": [
    {
     "data": {
      "text/plain": [
       "array([[  2.  ,  13.  ,  44.  , ...,   1.31,   4.16,   1.  ],\n",
       "       [  3.  ,  11.  ,  33.  , ...,   1.48,   4.91,   4.  ],\n",
       "       [  3.  ,  68.  ,  52.  , ...,   2.9 ,   4.75,   3.  ],\n",
       "       ..., \n",
       "       [  3.  ,  67.  ,  59.  , ...,   3.29,   6.85,   4.  ],\n",
       "       [  3.  ,  70.  ,  49.  , ...,   3.24,   4.47,   3.  ],\n",
       "       [  3.  ,  50.  ,  36.  , ...,   2.58,   3.66,   2.  ]])"
      ]
     },
     "execution_count": 8,
     "metadata": {},
     "output_type": "execute_result"
    }
   ],
   "source": [
    "x"
   ]
  },
  {
   "cell_type": "code",
   "execution_count": 9,
   "metadata": {},
   "outputs": [
    {
     "data": {
      "text/plain": [
       "array([1, 1, 0, 1, 0, 0, 1, 0, 0, 0, 1, 0, 0, 1, 0, 0, 0, 0, 0, 1, 1, 0, 0,\n",
       "       0, 0, 0, 0, 0, 0, 0, 0, 0, 0, 0, 0, 1, 0, 0, 1, 0, 0, 0, 0, 1, 0, 0,\n",
       "       0, 1, 1, 1, 1, 0, 0, 0, 0, 1, 0, 0, 0, 0, 1, 0, 0, 0, 1, 0, 0, 0, 0,\n",
       "       1, 0, 0, 0, 0, 0, 0, 1, 0, 0, 0, 0, 1, 1, 0, 0, 0, 0, 1, 1, 0, 0, 0,\n",
       "       0, 0, 1, 1, 0, 1, 1, 0, 0, 0, 1, 1, 0, 1, 0, 0, 0, 0, 0, 1, 0, 0, 0,\n",
       "       0, 0, 0, 0, 1, 0, 0, 0, 1, 1, 0, 0, 1, 1, 0, 1, 1, 0, 1, 0, 0, 0, 0,\n",
       "       0, 1, 0, 0, 0, 0, 0, 0, 0, 1, 0, 0, 0, 0, 0, 0, 0, 0, 0, 0, 1, 0, 0,\n",
       "       0, 0, 0, 0, 0, 1, 0, 0, 1, 0, 0, 0, 1, 0, 1, 0, 1, 0, 1, 0, 0, 0, 0,\n",
       "       0, 0, 0, 1, 0, 1, 0, 0, 1, 0, 0, 1, 0, 0, 0, 0, 0, 0, 0, 0, 1, 0, 0,\n",
       "       1, 0, 0, 0, 1, 1, 0, 0, 0, 0, 1, 0, 0, 0, 0, 0, 0, 1, 1, 0, 0, 1, 0,\n",
       "       0, 0, 0, 0, 0, 0, 0, 0, 0, 0, 0, 0, 0, 1, 0, 1, 0, 0, 0, 0, 0, 0, 1,\n",
       "       0, 1, 0, 1, 0, 0, 1, 0, 0, 0, 0, 0, 0, 0, 0, 0, 0, 0, 0, 0, 0, 0, 0,\n",
       "       0, 0, 0, 0, 0, 1, 1, 0, 0, 0, 0, 0, 0, 0, 0, 0, 1, 0, 0, 0, 0, 0, 0,\n",
       "       0, 0, 0, 0, 0, 1, 1, 1, 0, 1, 0, 1, 1, 1, 0, 0, 1, 1, 1, 1, 1, 1, 0,\n",
       "       1, 1, 0, 0, 1, 0, 1, 0, 0, 0, 0, 0, 0, 0, 0, 0, 0, 0, 0, 0, 0, 0, 0,\n",
       "       1, 0, 1, 0, 0, 0, 0, 0, 1, 0, 0, 0, 0, 0, 0, 0, 1, 0, 0, 0, 0, 1, 0,\n",
       "       0, 1, 0, 0, 0, 0, 0, 0, 0, 0, 0, 0, 0, 1, 0, 0, 0, 0, 0, 0, 0, 0, 1,\n",
       "       0, 1, 0, 0, 1, 0, 0, 0, 0, 0, 0, 0, 0, 0, 0, 0, 0, 0, 0, 0, 1, 1, 0,\n",
       "       0, 0, 0, 0, 1, 1, 0, 0, 0, 1, 0, 0, 0, 0, 0, 0, 0, 0, 1, 0, 1, 1, 0,\n",
       "       0, 0, 1, 0, 0, 0, 0, 0, 0, 0, 0, 0, 1, 0, 1, 0, 1, 0, 0, 0, 1, 0, 1,\n",
       "       1, 1, 0, 0, 0, 0, 1, 0, 0, 1, 0, 1, 1, 1, 0, 1, 0, 0, 1, 0, 0, 1, 1,\n",
       "       0, 1, 0, 0, 0, 0, 0, 1, 0, 0, 1, 0, 1, 0, 0, 0, 0, 1, 0, 1, 0, 1, 0,\n",
       "       0, 0, 1, 0, 0, 0, 0, 0, 1, 0, 0, 0, 1, 0, 0, 0, 0, 0, 0, 0, 0, 1, 0,\n",
       "       1, 1, 0, 1, 0, 0, 0, 0, 0, 0, 0, 0, 0, 1, 0, 1, 0, 0, 1, 0, 1, 1, 1,\n",
       "       1, 0, 0, 0, 0, 0, 0, 0, 0, 0, 1, 1, 0, 0, 0, 0, 1, 1, 0, 0, 0, 1, 1,\n",
       "       0, 1, 0, 0, 0, 0, 0, 0, 0, 0, 0, 0, 0, 1, 0, 1, 0, 0, 0, 0, 0, 0, 0,\n",
       "       1, 1, 1, 1, 1, 0, 0, 0, 0, 0, 1, 1, 0, 0, 0, 0, 0, 0, 1, 0, 0, 0, 0,\n",
       "       0, 1, 0, 1, 0, 1, 0, 0, 1, 0, 0, 0, 1, 0, 1, 0, 1, 0, 0, 0, 0, 0, 1,\n",
       "       1, 1, 0, 1, 0, 0, 0, 1, 0, 0, 1, 0, 1, 1, 0, 1, 0, 0, 0, 1, 0, 0, 1,\n",
       "       1, 0, 0, 0, 0, 0, 1, 0, 0, 1, 0, 0, 1, 0, 0, 0, 0, 0, 1, 0, 1, 0, 0,\n",
       "       0, 0, 0, 1, 0, 0, 1, 0, 0, 1, 1, 0, 0, 0, 1, 0, 0, 0, 0, 1, 0, 1, 1,\n",
       "       0, 0, 0, 0, 0, 0, 1, 0, 1, 1, 0, 1, 1, 0, 1, 0, 0, 0, 0, 1, 0, 0, 0,\n",
       "       0, 1, 0, 0, 0, 0, 0, 0, 0, 1, 0, 0, 0, 0, 1, 0, 0, 0, 0, 0, 1, 0, 0,\n",
       "       0, 0, 1, 0, 1, 0, 1, 0, 0, 1, 0, 1, 0, 0, 0, 1, 0, 1, 1, 0, 0, 1, 0,\n",
       "       0, 0, 0, 0, 1, 0, 1, 0, 1, 0, 0, 1, 1, 0, 0, 0, 0, 0, 0, 0, 0, 0, 0,\n",
       "       0, 1, 1, 0, 0, 0, 0, 0, 0, 0, 0, 1, 0, 0, 0, 0, 1, 0, 0, 1, 1, 0, 0,\n",
       "       0, 1, 0, 0, 0, 1, 0, 1, 0, 0, 0, 0, 1, 0, 0, 0, 0, 0, 1, 1, 0, 0, 0,\n",
       "       1, 0, 1, 0, 0, 0, 1, 0, 1, 0, 1, 1, 1, 0, 0, 0, 0, 0, 0, 1, 0, 1, 0,\n",
       "       0, 0, 0, 0, 1, 0, 0, 0, 0, 0, 0, 0, 0, 0, 1, 1, 0, 1, 0, 1, 0, 0, 1,\n",
       "       0, 1, 0, 1, 1, 0, 0, 0, 0, 0, 0, 0, 0, 0, 1, 1, 0, 0, 0, 0, 0, 0, 0,\n",
       "       1, 1, 0, 1, 0, 1, 0, 0, 1, 0, 0, 0, 1, 0, 0, 0, 0, 0, 1, 1, 0, 1, 1,\n",
       "       0, 0, 1, 0, 0, 0, 0, 0, 0, 0, 0, 0, 0, 0, 0, 0, 0, 1, 0, 0, 0, 1, 0,\n",
       "       1, 1, 0, 0, 0, 1, 0, 0, 0, 0, 0, 0, 0, 0, 1, 1, 0, 0, 0, 1, 1, 1, 0,\n",
       "       1, 0, 0, 0, 1, 1, 0, 0, 0, 0, 1], dtype=int64)"
      ]
     },
     "execution_count": 9,
     "metadata": {},
     "output_type": "execute_result"
    }
   ],
   "source": [
    "y"
   ]
  },
  {
   "cell_type": "code",
   "execution_count": 10,
   "metadata": {
    "collapsed": true
   },
   "outputs": [],
   "source": [
    "from sklearn.linear_model import LogisticRegression as LR"
   ]
  },
  {
   "cell_type": "code",
   "execution_count": 11,
   "metadata": {
    "collapsed": true
   },
   "outputs": [],
   "source": [
    "lr = LR()#建立逻辑回归模型"
   ]
  },
  {
   "cell_type": "code",
   "execution_count": 13,
   "metadata": {},
   "outputs": [
    {
     "data": {
      "text/plain": [
       "LogisticRegression(C=1.0, class_weight=None, dual=False, fit_intercept=True,\n",
       "          intercept_scaling=1, max_iter=100, multi_class='ovr', n_jobs=1,\n",
       "          penalty='l2', random_state=None, solver='liblinear', tol=0.0001,\n",
       "          verbose=0, warm_start=False)"
      ]
     },
     "execution_count": 13,
     "metadata": {},
     "output_type": "execute_result"
    }
   ],
   "source": [
    "lr.fit(x,y)#用筛选过后的特征数据来训练模型"
   ]
  },
  {
   "cell_type": "code",
   "execution_count": 14,
   "metadata": {},
   "outputs": [
    {
     "name": "stdout",
     "output_type": "stream",
     "text": [
      "模型的平均正确率为：0.781\n"
     ]
    }
   ],
   "source": [
    "print(u'模型的平均正确率为：%s' % lr.score(x, y))"
   ]
  },
  {
   "cell_type": "code",
   "execution_count": 15,
   "metadata": {
    "collapsed": true
   },
   "outputs": [],
   "source": [
    "#混淆矩阵\n",
    "def cm_plot(y, yp):\n",
    "    from sklearn.metrics import confusion_matrix #导入混淆矩阵函数\n",
    "    \n",
    "    cm = confusion_matrix(y, yp) #混淆矩阵\n",
    "    \n",
    "    import matplotlib.pyplot as plt #导入作图库\n",
    "    plt.matshow(cm, cmap=plt.cm.Greens) #画混淆矩阵图，配色风格使用cm.Greens，更多风格请参考官网。\n",
    "    plt.colorbar() #颜色标签\n",
    "    \n",
    "    for x in range(len(cm)):#数据标签\n",
    "        for y in range(len(cm)):\n",
    "            plt.annotate(cm[x,y], xy=(x, y), horizontalalignment='center', verticalalignment='center')\n",
    "  \n",
    "    plt.ylabel('True label') #坐标轴标签\n",
    "    plt.xlabel('Predicted label') #坐标轴标签\n",
    "    return plt"
   ]
  },
  {
   "cell_type": "code",
   "execution_count": 16,
   "metadata": {
    "collapsed": true
   },
   "outputs": [],
   "source": [
    "from sklearn.cross_validation import train_test_split"
   ]
  },
  {
   "cell_type": "code",
   "execution_count": 17,
   "metadata": {
    "collapsed": true
   },
   "outputs": [],
   "source": [
    "p = 0.2 #设置测试数据集比例"
   ]
  },
  {
   "cell_type": "code",
   "execution_count": 18,
   "metadata": {
    "collapsed": true
   },
   "outputs": [],
   "source": [
    "x_train , x_test, y_train, y_test = train_test_split(x,y,test_size = p)"
   ]
  },
  {
   "cell_type": "code",
   "execution_count": 20,
   "metadata": {},
   "outputs": [],
   "source": [
    "from sklearn.tree import DecisionTreeClassifier"
   ]
  },
  {
   "cell_type": "code",
   "execution_count": 21,
   "metadata": {
    "collapsed": true
   },
   "outputs": [],
   "source": [
    "treefile = 'tree.pkl' #模型输出名字"
   ]
  },
  {
   "cell_type": "code",
   "execution_count": 22,
   "metadata": {
    "collapsed": true
   },
   "outputs": [],
   "source": [
    "tree = DecisionTreeClassifier() #建立决策树模型"
   ]
  },
  {
   "cell_type": "code",
   "execution_count": 23,
   "metadata": {},
   "outputs": [
    {
     "data": {
      "text/plain": [
       "DecisionTreeClassifier(class_weight=None, criterion='gini', max_depth=None,\n",
       "            max_features=None, max_leaf_nodes=None,\n",
       "            min_impurity_decrease=0.0, min_impurity_split=None,\n",
       "            min_samples_leaf=1, min_samples_split=2,\n",
       "            min_weight_fraction_leaf=0.0, presort=False, random_state=None,\n",
       "            splitter='best')"
      ]
     },
     "execution_count": 23,
     "metadata": {},
     "output_type": "execute_result"
    }
   ],
   "source": [
    "tree.fit(x_train, y_train) #训练"
   ]
  },
  {
   "cell_type": "code",
   "execution_count": 25,
   "metadata": {},
   "outputs": [
    {
     "data": {
      "text/plain": [
       "['tree.pkl']"
      ]
     },
     "execution_count": 25,
     "metadata": {},
     "output_type": "execute_result"
    }
   ],
   "source": [
    "#保存模型\n",
    "from sklearn.externals import joblib\n",
    "joblib.dump(tree,treefile)"
   ]
  },
  {
   "cell_type": "code",
   "execution_count": 26,
   "metadata": {},
   "outputs": [
    {
     "data": {
      "image/png": "[encoded data removed]",
      "text/plain": [
       "<matplotlib.figure.Figure at 0x1f396895550>"
      ]
     },
     "metadata": {},
     "output_type": "display_data"
    }
   ],
   "source": [
    "cm_plot(y_train,tree.predict(x_train)).show()"
   ]
  },
  {
   "cell_type": "code",
   "execution_count": 27,
   "metadata": {
    "collapsed": true
   },
   "outputs": [],
   "source": [
    "from sklearn.metrics import roc_curve"
   ]
  },
  {
   "cell_type": "code",
   "execution_count": 35,
   "metadata": {},
   "outputs": [
    {
     "data": {
      "text/plain": [
       "array([0, 0, 0, 1, 0, 0, 0, 0, 1, 1, 0, 0, 0, 0, 1, 0, 0, 0, 0, 0, 1, 0, 1,\n",
       "       1, 1, 0, 0, 0, 0, 0, 0, 1, 0, 1, 0, 0, 1, 1, 0, 1, 0, 0, 1, 0, 1, 1,\n",
       "       1, 0, 0, 0, 1, 0, 1, 1, 0, 0, 1, 1, 0, 0, 0, 1, 1, 0, 0, 0, 0, 1, 0,\n",
       "       0, 0, 0, 1, 0, 0, 0, 1, 0, 0, 1, 0, 0, 1, 1, 0, 0, 1, 0, 1, 0, 0, 1,\n",
       "       0, 0, 0, 0, 0, 0, 0, 0, 0, 1, 0, 0, 1, 0, 0, 1, 1, 0, 0, 0, 1, 0, 0,\n",
       "       0, 0, 0, 0, 1, 0, 0, 0, 1, 1, 0, 0, 0, 1, 1, 0, 1, 0, 1, 0, 1, 0, 0,\n",
       "       1, 0, 1, 0, 0, 0, 0, 0, 0, 0, 0, 0, 1, 1, 1, 0, 1, 0, 1, 0, 1, 0, 0,\n",
       "       0, 0, 0, 1, 0, 1, 1, 0, 1, 1, 0, 0, 0, 1, 1, 0, 0, 0, 0, 0, 1, 0, 0,\n",
       "       1, 0, 0, 1, 0, 0, 1, 0, 0, 0, 1, 0, 0, 1, 0, 0], dtype=int64)"
      ]
     },
     "execution_count": 35,
     "metadata": {},
     "output_type": "execute_result"
    }
   ],
   "source": [
    "tree.predict_proba(x_test)[:,1]"
   ]
  },
  {
   "cell_type": "code",
   "execution_count": 36,
   "metadata": {
    "collapsed": true
   },
   "outputs": [],
   "source": [
    "fpr, tpr, thresholds = roc_curve(y_test,tree.predict(x_test),pos_label=1)"
   ]
  },
  {
   "cell_type": "code",
   "execution_count": 44,
   "metadata": {},
   "outputs": [
    {
     "data": {
      "image/png": "[encoded data removed]",
      "text/plain": [
       "<matplotlib.figure.Figure at 0x1f396ffd5c0>"
      ]
     },
     "metadata": {},
     "output_type": "display_data"
    }
   ],
   "source": [
    "#做出roc曲线\n",
    "plt.plot(fpr,tpr,linewidth=2,label= 'ROC of CART',color = 'green')\n",
    "plt.xlabel('False Positive Rate') #坐标轴标签\n",
    "plt.ylabel('True Positive Rate') #坐标轴标签\n",
    "plt.ylim(0,1.05) #边界范围\n",
    "plt.xlim(0,1.05) #边界范围\n",
    "plt.legend(loc=4) #图例\n",
    "plt.show() #显示作图结果"
   ]
  },
  {
   "cell_type": "code",
   "execution_count": 45,
   "metadata": {},
   "outputs": [
    {
     "data": {
      "text/plain": [
       "KNeighborsClassifier(algorithm='kd_tree', leaf_size=30, metric='minkowski',\n",
       "           metric_params=None, n_jobs=1, n_neighbors=5, p=2,\n",
       "           weights='uniform')"
      ]
     },
     "execution_count": 45,
     "metadata": {},
     "output_type": "execute_result"
    }
   ],
   "source": [
    "#训练KNN分类器\n",
    "from sklearn.neighbors import KNeighborsClassifier\n",
    "from sklearn.metrics import precision_recall_curve\n",
    "from sklearn.metrics import classification_report\n",
    "clf = KNeighborsClassifier(algorithm = 'kd_tree')\n",
    "clf.fit(x_train,y_train)"
   ]
  },
  {
   "cell_type": "code",
   "execution_count": 46,
   "metadata": {
    "collapsed": true
   },
   "outputs": [],
   "source": [
    "#测试结果\n",
    "answer = clf.predict(x_test)"
   ]
  },
  {
   "cell_type": "code",
   "execution_count": 47,
   "metadata": {},
   "outputs": [
    {
     "data": {
      "text/plain": [
       "array([[  2.  ,  69.  ,  47.  , ...,   3.23,   5.07,   3.  ],\n",
       "       [  1.  ,  16.  ,  24.  , ...,   2.24,   3.18,   3.  ],\n",
       "       [  3.  ,  50.  ,  36.  , ...,   2.58,   3.66,   2.  ],\n",
       "       ..., \n",
       "       [  2.  ,  23.  ,  22.  , ...,   2.07,   3.3 ,   3.  ],\n",
       "       [  1.  ,  71.  ,  56.  , ...,   2.65,   5.14,   4.  ],\n",
       "       [  2.  ,  72.  ,  53.  , ...,   3.77,   5.02,   4.  ]])"
      ]
     },
     "execution_count": 47,
     "metadata": {},
     "output_type": "execute_result"
    }
   ],
   "source": [
    "x_test"
   ]
  },
  {
   "cell_type": "code",
   "execution_count": 48,
   "metadata": {},
   "outputs": [
    {
     "data": {
      "text/plain": [
       "array([0, 0, 0, 0, 0, 0, 0, 0, 0, 1, 0, 0, 0, 0, 0, 0, 1, 0, 1, 1, 1, 0, 1,\n",
       "       0, 1, 0, 0, 0, 0, 0, 0, 0, 0, 1, 0, 1, 0, 0, 0, 0, 0, 1, 1, 0, 0, 0,\n",
       "       0, 0, 0, 0, 0, 1, 0, 0, 0, 0, 0, 1, 1, 0, 0, 0, 1, 0, 0, 0, 0, 1, 0,\n",
       "       0, 0, 1, 1, 0, 0, 0, 0, 0, 0, 0, 0, 0, 0, 0, 0, 0, 1, 0, 0, 0, 0, 0,\n",
       "       0, 0, 0, 0, 0, 1, 0, 0, 0, 0, 0, 0, 0, 0, 0, 0, 0, 0, 0, 0, 0, 0, 0,\n",
       "       0, 0, 0, 0, 1, 0, 1, 0, 0, 0, 0, 0, 0, 0, 1, 0, 0, 0, 0, 0, 0, 0, 0,\n",
       "       1, 0, 1, 0, 0, 0, 1, 0, 0, 0, 0, 0, 0, 1, 1, 0, 1, 1, 0, 0, 0, 0, 1,\n",
       "       0, 0, 0, 0, 0, 0, 0, 0, 1, 0, 0, 1, 0, 1, 1, 0, 0, 0, 0, 1, 0, 0, 0,\n",
       "       1, 0, 0, 0, 1, 0, 1, 0, 1, 0, 0, 0, 0, 0, 0, 0], dtype=int64)"
      ]
     },
     "execution_count": 48,
     "metadata": {},
     "output_type": "execute_result"
    }
   ],
   "source": [
    "answer"
   ]
  },
  {
   "cell_type": "code",
   "execution_count": 49,
   "metadata": {},
   "outputs": [
    {
     "data": {
      "text/plain": [
       "array([1, 0, 1, 0, 0, 0, 0, 1, 0, 1, 0, 0, 1, 0, 0, 0, 1, 0, 0, 0, 0, 0, 1,\n",
       "       0, 1, 1, 0, 0, 0, 0, 0, 0, 0, 1, 0, 0, 0, 0, 0, 0, 0, 1, 1, 0, 1, 0,\n",
       "       0, 0, 0, 1, 0, 1, 0, 0, 0, 0, 0, 1, 1, 0, 0, 0, 0, 0, 0, 0, 0, 0, 0,\n",
       "       0, 0, 1, 0, 0, 0, 0, 1, 0, 0, 1, 0, 0, 0, 0, 0, 0, 1, 0, 0, 0, 1, 1,\n",
       "       0, 0, 0, 0, 0, 0, 0, 0, 0, 1, 0, 0, 0, 0, 0, 0, 0, 0, 0, 0, 0, 0, 1,\n",
       "       1, 0, 0, 1, 0, 0, 0, 0, 0, 0, 0, 1, 1, 0, 0, 0, 0, 0, 0, 1, 0, 0, 0,\n",
       "       0, 0, 0, 0, 0, 0, 0, 0, 0, 0, 0, 0, 0, 0, 1, 0, 0, 1, 0, 0, 0, 0, 0,\n",
       "       0, 0, 1, 0, 0, 1, 0, 1, 0, 0, 0, 0, 0, 0, 0, 0, 0, 1, 0, 1, 0, 0, 0,\n",
       "       0, 0, 0, 1, 0, 0, 1, 1, 0, 1, 0, 0, 0, 0, 0, 0], dtype=int64)"
      ]
     },
     "execution_count": 49,
     "metadata": {},
     "output_type": "execute_result"
    }
   ],
   "source": [
    "y_test"
   ]
  },
  {
   "cell_type": "code",
   "execution_count": 50,
   "metadata": {},
   "outputs": [
    {
     "data": {
      "text/plain": [
       "0.755"
      ]
     },
     "execution_count": 50,
     "metadata": {},
     "output_type": "execute_result"
    }
   ],
   "source": [
    "np.mean(answer==y_test)"
   ]
  },
  {
   "cell_type": "code",
   "execution_count": 51,
   "metadata": {
    "collapsed": true
   },
   "outputs": [],
   "source": [
    "#准确率\n",
    "precision, recall, thresholds = precision_recall_curve(y_train,clf.predict(x_train))"
   ]
  },
  {
   "cell_type": "code",
   "execution_count": 52,
   "metadata": {},
   "outputs": [
    {
     "data": {
      "text/plain": [
       "array([ 0.29125   ,  0.68617021,  1.        ])"
      ]
     },
     "execution_count": 52,
     "metadata": {},
     "output_type": "execute_result"
    }
   ],
   "source": [
    "precision"
   ]
  },
  {
   "cell_type": "code",
   "execution_count": 53,
   "metadata": {},
   "outputs": [
    {
     "data": {
      "text/plain": [
       "array([ 1.        ,  0.55364807,  0.        ])"
      ]
     },
     "execution_count": 53,
     "metadata": {},
     "output_type": "execute_result"
    }
   ],
   "source": [
    "recall"
   ]
  },
  {
   "cell_type": "code",
   "execution_count": 54,
   "metadata": {},
   "outputs": [
    {
     "data": {
      "text/plain": [
       "array([0, 1], dtype=int64)"
      ]
     },
     "execution_count": 54,
     "metadata": {},
     "output_type": "execute_result"
    }
   ],
   "source": [
    "thresholds"
   ]
  },
  {
   "cell_type": "code",
   "execution_count": 55,
   "metadata": {},
   "outputs": [
    {
     "data": {
      "text/plain": [
       "'             precision    recall  f1-score   support\\n\\n          高       0.84      0.85      0.85       159\\n          低       0.40      0.39      0.40        41\\n\\navg / total       0.75      0.76      0.75       200\\n'"
      ]
     },
     "execution_count": 55,
     "metadata": {},
     "output_type": "execute_result"
    }
   ],
   "source": [
    "classification_report(y_test, answer, target_names = ['高', '低'])"
   ]
  },
  {
   "cell_type": "code",
   "execution_count": 56,
   "metadata": {},
   "outputs": [
    {
     "data": {
      "text/plain": [
       "BernoulliNB(alpha=1.0, binarize=0.0, class_prior=None, fit_prior=True)"
      ]
     },
     "execution_count": 56,
     "metadata": {},
     "output_type": "execute_result"
    }
   ],
   "source": [
    "#贝叶斯分类器\n",
    "#训练\n",
    "from sklearn.naive_bayes import BernoulliNB\n",
    "clf =BernoulliNB()\n",
    "clf.fit(x_train,y_train)"
   ]
  },
  {
   "cell_type": "code",
   "execution_count": null,
   "metadata": {
    "collapsed": true
   },
   "outputs": [],
   "source": [
    "#测试结果\n",
    "answer = "
   ]
  }
 ],
 "metadata": {
  "kernelspec": {
   "display_name": "Python 3",
   "language": "python",
   "name": "python3"
  },
  "language_info": {
   "codemirror_mode": {
    "name": "ipython",
    "version": 3
   },
   "file_extension": ".py",
   "mimetype": "text/x-python",
   "name": "python",
   "nbconvert_exporter": "python",
   "pygments_lexer": "ipython3",
   "version": "3.6.4"
  }
 },
 "nbformat": 4,
 "nbformat_minor": 2
}
